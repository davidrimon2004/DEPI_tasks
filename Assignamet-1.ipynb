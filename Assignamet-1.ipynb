{
 "cells": [
  {
   "cell_type": "markdown",
   "metadata": {},
   "source": [
    "## Python Task"
   ]
  },
  {
   "cell_type": "markdown",
   "metadata": {},
   "source": [
    "### 1. Question: Merge and Sort Two Lists\n",
    "\n",
    "**Description:** Given two lists of integers, merge them into one list and sort the result in ascending order. Do not use Python's built-in sort() function or other sorting functions.\n",
    "\n",
    "\n"
   ]
  },
  {
   "cell_type": "code",
   "execution_count": 1,
   "metadata": {},
   "outputs": [
    {
     "data": {
      "text/plain": [
       "'\\n# Example Input:\\nlist1 = [3, 1, 4]\\nlist2 = [2, 5, 0]\\n\\n# Example Output:\\n[0, 1, 2, 3, 4, 5]'"
      ]
     },
     "execution_count": 1,
     "metadata": {},
     "output_type": "execute_result"
    }
   ],
   "source": [
    "'''\n",
    "# Example Input:\n",
    "list1 = [3, 1, 4]\n",
    "list2 = [2, 5, 0]\n",
    "\n",
    "# Example Output:\n",
    "[0, 1, 2, 3, 4, 5]'''"
   ]
  },
  {
   "cell_type": "code",
   "execution_count": 8,
   "metadata": {},
   "outputs": [
    {
     "data": {
      "text/plain": [
       "[0, 1, 2, 3, 4, 5, 7]"
      ]
     },
     "execution_count": 8,
     "metadata": {},
     "output_type": "execute_result"
    }
   ],
   "source": [
    "list1 = [3, 1, 4]\n",
    "list2 = [2, 5,0,7]\n",
    "i=0\n",
    "while i<len(list1)-1:\n",
    "    if list1[i] > list1[i+1] :\n",
    "        x=list1[i]\n",
    "        list1[i]=list1[i+1]\n",
    "        list1[i+1]=x\n",
    "        i=0\n",
    "    else:\n",
    "        i+=1\n",
    "\n",
    "i=0\n",
    "while i<len(list2)-1:\n",
    "    if list2[i] > list2[i+1] :\n",
    "        x=list2[i]\n",
    "        list2[i]=list2[i+1]\n",
    "        list2[i+1]=x\n",
    "        i=0\n",
    "    else:\n",
    "        i+=1\n",
    "i=0\n",
    "j=0\n",
    "list3=[]\n",
    "while i!= len(list1) and j!= len(list2):\n",
    "    if list1[i]<list2[j]:\n",
    "        list3.append(list1[i])\n",
    "        i+=1\n",
    "    else:\n",
    "        list3.append(list2[j])\n",
    "        j+=1\n",
    "while i < len(list1):\n",
    "    list3.append(list1[i])\n",
    "    i += 1\n",
    "\n",
    "while j < len(list2):\n",
    "    list3.append(list2[j])\n",
    "    j += 1\n",
    "list3"
   ]
  },
  {
   "cell_type": "markdown",
   "metadata": {},
   "source": [
    "### 2. Question: Repeat Characters in a String\n",
    "\n",
    "**Description:** Given a string, create a new string by repeating each character in the original string n times. \n",
    "\n",
    "Assume n is given and always a positive integer. \n",
    "\n",
    "Do not use if statements in your solution.\n"
   ]
  },
  {
   "cell_type": "code",
   "execution_count": 2,
   "metadata": {},
   "outputs": [
    {
     "data": {
      "text/plain": [
       "'\\n# Example Input:\\ns = \"abc\"\\nn = 3\\n\\n# Example Output:\\n\"aaabbbccc\"\\n\\n'"
      ]
     },
     "execution_count": 2,
     "metadata": {},
     "output_type": "execute_result"
    }
   ],
   "source": [
    "'''\n",
    "# Example Input:\n",
    "s = \"abc\"\n",
    "n = 3\n",
    "\n",
    "# Example Output:\n",
    "\"aaabbbccc\"\n",
    "\n",
    "'''"
   ]
  },
  {
   "cell_type": "code",
   "execution_count": 3,
   "metadata": {},
   "outputs": [
    {
     "name": "stdout",
     "output_type": "stream",
     "text": [
      "aaabbbccc"
     ]
    }
   ],
   "source": [
    "s=\"abc\"\n",
    "n=3\n",
    "for i in range (len(s)):\n",
    "    print(s[i]*n,end='')"
   ]
  }
 ],
 "metadata": {
  "kernelspec": {
   "display_name": "Python [conda env:base] *",
   "language": "python",
   "name": "conda-base-py"
  },
  "language_info": {
   "codemirror_mode": {
    "name": "ipython",
    "version": 3
   },
   "file_extension": ".py",
   "mimetype": "text/x-python",
   "name": "python",
   "nbconvert_exporter": "python",
   "pygments_lexer": "ipython3",
   "version": "3.13.5"
  }
 },
 "nbformat": 4,
 "nbformat_minor": 4
}
