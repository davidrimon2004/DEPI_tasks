{
 "cells": [
  {
   "cell_type": "code",
   "execution_count": 1,
   "id": "5e35e375-3e12-4f3e-8a2f-7d0711825c5f",
   "metadata": {},
   "outputs": [],
   "source": [
    "books_data = [\n",
    "    {\"book_id\": \"B001\", \"title\": \"The Alchemist\", \"author\": \"Paulo Coelho\", \"genre\": \"Fiction\", \"quantity\": 10, \"status\": \"Available\"},\n",
    "    {\"book_id\": \"B002\", \"title\": \"1984\", \"author\": \"George Orwell\", \"genre\": \"Dystopian\", \"quantity\": 0, \"status\": \"Not Available\"},\n",
    "    {\"book_id\": \"B003\", \"title\": \"To Kill a Mockingbird\", \"author\": \"Harper Lee\", \"genre\": \"Classic\", \"quantity\": 7, \"status\": \"Available\"},\n",
    "    {\"book_id\": \"B004\", \"title\": \"Sapiens: A Brief History of Humankind\", \"author\": \"Yuval Noah Harari\", \"genre\": \"Non-Fiction\", \"quantity\": 3, \"status\": \"Available\"},\n",
    "]"
   ]
  },
  {
   "cell_type": "code",
   "execution_count": 6,
   "id": "5d251f0d-c158-49b1-81f6-eff35f2db0b9",
   "metadata": {},
   "outputs": [],
   "source": [
    "def borrow_books():\n",
    "    response=\"\"\n",
    "    title = str(input(\"enter the name of the book you want to borrow\"))\n",
    "    for i in books_data :\n",
    "        if i['title'] == title :\n",
    "            if i['quantity']>0 :\n",
    "                response=input(f' the book {title} is avilable , would u like to borrow it? (y/n)')\n",
    "                if response =='y':\n",
    "                    print (\"the book is borrowed succesfully\")\n",
    "                    i['quantity']-=1\n",
    "                    break\n",
    "            else :\n",
    "                print(\"the book is out of stock\")\n",
    "                i[\"avilabilty\"]=\"Not Available\"\n",
    "                break\n",
    "    else :\n",
    "        print (f' the book {title} can\\'t be found in the library')\n",
    "            "
   ]
  },
  {
   "cell_type": "code",
   "execution_count": 9,
   "id": "308d1232-ef67-416f-b51f-0bcd4163d4c0",
   "metadata": {},
   "outputs": [],
   "source": [
    "def handeling():\n",
    "    for i in books_data:\n",
    "        if i[\"quantity\"]==0 :\n",
    "            i[\"avilabilty\"]=\"Not Available\""
   ]
  },
  {
   "cell_type": "code",
   "execution_count": 10,
   "id": "e2a2cdbb-3972-424e-b9d1-b479132eb5f6",
   "metadata": {},
   "outputs": [],
   "source": [
    "def main():\n",
    "    borrow_books()\n",
    "    handeling()"
   ]
  },
  {
   "cell_type": "code",
   "execution_count": 11,
   "id": "1751d29c-7db8-43ab-9615-01f77c0d904e",
   "metadata": {},
   "outputs": [
    {
     "name": "stdin",
     "output_type": "stream",
     "text": [
      "enter the name of the book you want to borrow The Alchemist\n",
      " the book The Alchemist is avilable , would u like to borrow it? (y/n) y\n"
     ]
    },
    {
     "name": "stdout",
     "output_type": "stream",
     "text": [
      "the book is borrowed succesfully\n"
     ]
    }
   ],
   "source": [
    "main()"
   ]
  },
  {
   "cell_type": "code",
   "execution_count": 15,
   "id": "f4781ef1-8840-48fc-bcde-48f4681ca1b7",
   "metadata": {},
   "outputs": [
    {
     "data": {
      "text/plain": [
       "7"
      ]
     },
     "execution_count": 15,
     "metadata": {},
     "output_type": "execute_result"
    }
   ],
   "source": [
    "books_data[0][\"quantity\"]\n"
   ]
  },
  {
   "cell_type": "code",
   "execution_count": null,
   "id": "b64e03a3-d258-4501-98b0-6a76ce6c0c33",
   "metadata": {},
   "outputs": [],
   "source": []
  }
 ],
 "metadata": {
  "kernelspec": {
   "display_name": "Python [conda env:base] *",
   "language": "python",
   "name": "conda-base-py"
  },
  "language_info": {
   "codemirror_mode": {
    "name": "ipython",
    "version": 3
   },
   "file_extension": ".py",
   "mimetype": "text/x-python",
   "name": "python",
   "nbconvert_exporter": "python",
   "pygments_lexer": "ipython3",
   "version": "3.13.5"
  }
 },
 "nbformat": 4,
 "nbformat_minor": 5
}
