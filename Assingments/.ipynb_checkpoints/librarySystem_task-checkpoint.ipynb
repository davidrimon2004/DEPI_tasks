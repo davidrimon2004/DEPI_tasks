{
 "cells": [
  {
   "cell_type": "code",
   "execution_count": 1,
   "id": "5e35e375-3e12-4f3e-8a2f-7d0711825c5f",
   "metadata": {},
   "outputs": [],
   "source": [
    "books_data = [\n",
    "    {\"book_id\": \"B001\", \"title\": \"The Alchemist\", \"author\": \"Paulo Coelho\", \"genre\": \"Fiction\", \"quantity\": 10, \"status\": \"Available\"},\n",
    "    {\"book_id\": \"B002\", \"title\": \"1984\", \"author\": \"George Orwell\", \"genre\": \"Dystopian\", \"quantity\": 0, \"status\": \"Not Available\"},\n",
    "    {\"book_id\": \"B003\", \"title\": \"To Kill a Mockingbird\", \"author\": \"Harper Lee\", \"genre\": \"Classic\", \"quantity\": 7, \"status\": \"Available\"},\n",
    "    {\"book_id\": \"B004\", \"title\": \"Sapiens: A Brief History of Humankind\", \"author\": \"Yuval Noah Harari\", \"genre\": \"Non-Fiction\", \"quantity\": 3, \"status\": \"Available\"},\n",
    "]"
   ]
  },
  {
   "cell_type": "code",
   "execution_count": 2,
   "id": "5d251f0d-c158-49b1-81f6-eff35f2db0b9",
   "metadata": {},
   "outputs": [],
   "source": [
    "def borrow_books():\n",
    "    response=\"\"\n",
    "    title = str(input(\"enter the name of the book you want to borrow\"))\n",
    "    for i in books_data :\n",
    "        if i['title'] == title :\n",
    "            if i['quantity']>0 :\n",
    "                response=input(f'the book {title} is avilable , would u like to borrow it? (y/n)')\n",
    "                if response =='y':\n",
    "                    print (\"the book is borrowed succesfully\")\n",
    "                    i['quantity']-=1\n",
    "                    break\n",
    "            else :\n",
    "                print(\"the book is out of stock\")\n",
    "                i[\"status\"]=\"Not Available\"\n",
    "                break\n",
    "    else :\n",
    "        print (f'the book {title} can\\'t be found in the library')\n",
    "            "
   ]
  },
  {
   "cell_type": "code",
   "execution_count": 3,
   "id": "d3398fb7-27ae-462f-9c36-63a17e608654",
   "metadata": {},
   "outputs": [],
   "source": [
    "def return_book():\n",
    "    title = str(input(\"enter the name of the book you want to return\"))\n",
    "    for i in books_data :\n",
    "        if i['title'] == title :\n",
    "                    print (\"the book is returned succesfully\")\n",
    "                    i['quantity']+=1\n",
    "                    break\n",
    "    else :\n",
    "        print(\"this book is not in the library so it can't be returned :(\")\n",
    "            "
   ]
  },
  {
   "cell_type": "code",
   "execution_count": 4,
   "id": "b153acd4-2b2b-43ad-aea1-b9a82f210e27",
   "metadata": {},
   "outputs": [],
   "source": [
    "def view_books():\n",
    "    for i in books_data :\n",
    "        print(f'ID:{i['book_id']} , Book name is : {i['title']} and is written by {i['author']},its genre is{i[\"genre\"]}')"
   ]
  },
  {
   "cell_type": "code",
   "execution_count": 32,
   "id": "ded4b8f1-a196-4625-bff4-47948da4b119",
   "metadata": {},
   "outputs": [],
   "source": [
    "def check_avilabilty():\n",
    "     title = str(input(\"enter the name of the book you want to check\"))\n",
    "     for i in books_data :\n",
    "         if i[\"title\"] == title :\n",
    "             if i[\"status\"] == \"Available\":\n",
    "                 print (\"the book is Avilable\")\n",
    "             elif i[\"status\"] == \"Not Available\":\n",
    "                 print (\"the book is not avilable\")\n",
    "     else:\n",
    "        print (f'the book {title} can\\'t be found in the library')\n",
    "    "
   ]
  },
  {
   "cell_type": "code",
   "execution_count": 33,
   "id": "308d1232-ef67-416f-b51f-0bcd4163d4c0",
   "metadata": {},
   "outputs": [],
   "source": [
    "def handeling():\n",
    "    for i in books_data:\n",
    "        if i[\"quantity\"]==0 :\n",
    "            i[\"status\"]=\"Not Available\"\n",
    "        else :\n",
    "             i[\"status\"]=\"Available\""
   ]
  },
  {
   "cell_type": "code",
   "execution_count": 34,
   "id": "e2a2cdbb-3972-424e-b9d1-b479132eb5f6",
   "metadata": {},
   "outputs": [],
   "source": [
    "def main():\n",
    "    user= input(\"what is the service that you want to perform (b/r/v/c)\")\n",
    "    if user == 'b':\n",
    "        borrow_books()\n",
    "    elif user== 'r':\n",
    "        return_books()\n",
    "    elif user == 'v':\n",
    "        view_books()\n",
    "    elif user == 'c':\n",
    "        check_avilabilty()\n",
    "    handeling()"
   ]
  },
  {
   "cell_type": "code",
   "execution_count": 35,
   "id": "1751d29c-7db8-43ab-9615-01f77c0d904e",
   "metadata": {},
   "outputs": [
    {
     "name": "stdin",
     "output_type": "stream",
     "text": [
      "what is the service that you want to perform (b/r/v/c) c\n",
      "enter the name of the book you want to check gg\n"
     ]
    },
    {
     "name": "stdout",
     "output_type": "stream",
     "text": [
      "the book gg can't be found in the library\n"
     ]
    }
   ],
   "source": [
    "main()"
   ]
  },
  {
   "cell_type": "code",
   "execution_count": null,
   "id": "b64e03a3-d258-4501-98b0-6a76ce6c0c33",
   "metadata": {},
   "outputs": [],
   "source": []
  }
 ],
 "metadata": {
  "kernelspec": {
   "display_name": "Python [conda env:base] *",
   "language": "python",
   "name": "conda-base-py"
  },
  "language_info": {
   "codemirror_mode": {
    "name": "ipython",
    "version": 3
   },
   "file_extension": ".py",
   "mimetype": "text/x-python",
   "name": "python",
   "nbconvert_exporter": "python",
   "pygments_lexer": "ipython3",
   "version": "3.13.5"
  }
 },
 "nbformat": 4,
 "nbformat_minor": 5
}
